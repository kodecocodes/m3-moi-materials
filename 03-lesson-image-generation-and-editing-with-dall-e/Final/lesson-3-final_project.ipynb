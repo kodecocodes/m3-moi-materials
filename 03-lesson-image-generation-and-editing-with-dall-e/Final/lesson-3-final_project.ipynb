{
 "cells": [
  {
   "cell_type": "markdown",
   "id": "eb39f983-c17f-45f2-9bea-51769d717eb4",
   "metadata": {},
   "source": [
    "# Lesson 3 Project: Image Generation & Editing with DALL-E"
   ]
  },
  {
   "cell_type": "markdown",
   "id": "c0caf255-e696-4e01-831b-3df5e266060c",
   "metadata": {},
   "source": [
    "## Introduction"
   ]
  },
  {
   "cell_type": "markdown",
   "id": "505c6a33-9073-443a-bdc1-b6886450fdc5",
   "metadata": {},
   "source": [
    "Welcome to Lesson 3 of our course on multimodal AI! Today, you're stepping into the fascinating world of AI-powered image generation and editing using DALL-E. Imagine being able to create or modify images simply by describing what you want in words.\n",
    "\n",
    "In this lesson, you'll learn the art of crafting effective text prompts to generate the images you envision, and discover how to harness DALL-E's power for image editing tasks.\n",
    "\n",
    "By the end of this lesson, you will be able to:\n",
    "- Use DALL-E API for generating images based on text prompts\n",
    "- Implement an image editing feature using DALL-E\n",
    "- Combine text and image generation in a single application\n",
    "\n",
    "Get ready to turn your words into visuals and push the boundaries of creativity with DALL-E!"
   ]
  },
  {
   "cell_type": "markdown",
   "id": "4a7788bb-2e32-4cad-99e4-bbe823997a38",
   "metadata": {},
   "source": [
    "## Setting Up OpenAI Development Environment"
   ]
  },
  {
   "cell_type": "markdown",
   "id": "5eddca67-e52c-4771-8fd4-8f5fd5d6d3cf",
   "metadata": {},
   "source": [
    "Refer to the Python Crash Course lesson to learn how to set up your OpenAI development environment."
   ]
  },
  {
   "cell_type": "code",
   "execution_count": null,
   "id": "b1e5385f-dc12-4be7-aaf8-b69f7a55d823",
   "metadata": {},
   "outputs": [],
   "source": [
    "# Install dependencies\n",
    "!pip install Pillow"
   ]
  },
  {
   "cell_type": "code",
   "execution_count": null,
   "id": "c18beb92-d412-4d61-bf40-2efbd45e0915",
   "metadata": {},
   "outputs": [],
   "source": [
    "# Load the OpenAI library\n",
    "from openai import OpenAI\n",
    "\n",
    "# Set up relevant environment variables\n",
    "from dotenv import load_dotenv\n",
    "\n",
    "load_dotenv()\n",
    "\n",
    "# Create the OpenAI connection object\n",
    "client = OpenAI()"
   ]
  },
  {
   "cell_type": "markdown",
   "id": "0c54bb04-f172-4630-ae8a-7a3e6919e9f4",
   "metadata": {},
   "source": [
    "## Using DALL-E API for Generating Images"
   ]
  },
  {
   "cell_type": "markdown",
   "id": "f157ed63-4edb-4617-ad25-0d4fafe10967",
   "metadata": {},
   "source": [
    "DALL-E is a powerful AI model that can generate images from textual descriptions.\n",
    "\n",
    "First, you want to import some libraries."
   ]
  },
  {
   "cell_type": "code",
   "execution_count": null,
   "id": "71b98198-8f9b-4d47-86a1-643f1c75be9d",
   "metadata": {},
   "outputs": [],
   "source": [
    "# Import necessary libraries\n",
    "import requests\n",
    "from PIL import Image\n",
    "from io import BytesIO\n",
    "import matplotlib.pyplot as plt\n",
    "import base64"
   ]
  },
  {
   "cell_type": "markdown",
   "id": "b5f1f7e2-d933-49e4-82c7-e16875645a85",
   "metadata": {},
   "source": [
    "Here, you imported:\n",
    "\n",
    "- `requests` for making HTTP requests.\n",
    "- `PIL` (from `Pillow`) for image manipulation.\n",
    "- `BytesIO` (from `io`) for handling binary data.\n",
    "- `matplotlib.pyplot` for displaying images.\n",
    "- `base64` for encoding and decoding image data."
   ]
  },
  {
   "cell_type": "markdown",
   "id": "b80e14b4-5252-45af-96a2-d32da4fce8d5",
   "metadata": {},
   "source": [
    "## Writing Helper Functions"
   ]
  },
  {
   "cell_type": "markdown",
   "id": "10a73bb8-2036-4873-8dc2-494734ab2b56",
   "metadata": {},
   "source": [
    "Next, you want to define a function to generate an image using DALL-E."
   ]
  },
  {
   "cell_type": "code",
   "execution_count": null,
   "id": "9749df6c-6cf2-49b7-971b-5a792c81d509",
   "metadata": {},
   "outputs": [],
   "source": [
    "# Define a function to generate an image using DALL-E\n",
    "def generate_image(client, model, prompt, size, quality=None, style=None, response_format='url', n=1):\n",
    "    params = {\n",
    "        'model': model,\n",
    "        'prompt': prompt,\n",
    "        'size': size,\n",
    "        'n': n,\n",
    "        'response_format': response_format\n",
    "    }\n",
    "    if style:\n",
    "        params['style'] = style\n",
    "    if quality:\n",
    "        params['quality'] = quality\n",
    "    response = client.images.generate(**params)\n",
    "    return response"
   ]
  },
  {
   "cell_type": "markdown",
   "id": "050fb2e0-50f8-4d53-ad30-d06121cdc7e3",
   "metadata": {},
   "source": [
    "Here, you defined a function generate_image that takes several parameters to generate an image using the DALL-E model. This function allows you to specify the model, prompt, size, quality, style, response format, and the number of images to generate.\n",
    "\n",
    "To generate an image, you use the client.images.generate method. It accepts `model`, `prompt`, `size`, and other optional arguments. The `style` and `quality` parameters are only supported by the DALL-E 3 model, not by the DALL-E 2 model. That's why these parameters are only defined if they are explicitly provided.\n",
    "\n",
    "Now, you want to define a function to display an image from a URL."
   ]
  },
  {
   "cell_type": "code",
   "execution_count": null,
   "id": "f47711e8-5b00-469a-aa76-c683d7fe800a",
   "metadata": {},
   "outputs": [],
   "source": [
    "# Define a function to display an image from a URL\n",
    "def display_image_from_url(image_url):\n",
    "    response = requests.get(image_url)\n",
    "    img = Image.open(BytesIO(response.content))\n",
    "    plt.imshow(img)\n",
    "    plt.axis('off')\n",
    "    plt.show()"
   ]
  },
  {
   "cell_type": "markdown",
   "id": "d78e0b6f-e87e-4caf-97f1-fb6d3b386f46",
   "metadata": {},
   "source": [
    "Here, you defined a function `display_image_from_url` that takes an image URL as input. This function downloads the image using the `requests` library, opens it with `PIL`, and displays it using `matplotlib.pyplot`.\n",
    "\n",
    "Next, you want to define a function to display an image from a base64 string."
   ]
  },
  {
   "cell_type": "code",
   "execution_count": null,
   "id": "9ef1c4de-3e79-477c-8c43-57127d2d4c43",
   "metadata": {},
   "outputs": [],
   "source": [
    "# Define a function to display an image from base64\n",
    "def display_image_from_base64(b64_string):\n",
    "    img_data = base64.b64decode(b64_string)\n",
    "    img = Image.open(BytesIO(img_data))\n",
    "    plt.imshow(img)\n",
    "    plt.axis('off')\n",
    "    plt.show()"
   ]
  },
  {
   "cell_type": "markdown",
   "id": "ef1e2c25-53ac-429c-b1e9-edefa9c4f3c1",
   "metadata": {},
   "source": [
    "Here, you defined a function `display_image_from_base64` that takes a base64-encoded string as input. This function decodes the base64 string using the `base64` module, opens the image with `PIL`, and displays it using `matplotlib.pyplot`.\n",
    "\n",
    "Sometimes you don't want to display the image, but you want to save the image. Define a function to save an image to local storage."
   ]
  },
  {
   "cell_type": "code",
   "execution_count": null,
   "id": "dafbaf81-357d-43c9-bd51-8adbcc709d22",
   "metadata": {},
   "outputs": [],
   "source": [
    "# Define a function to save an image to local storage\n",
    "def save_image_to_local(image_url, filename):\n",
    "    response = requests.get(image_url)\n",
    "    img = Image.open(BytesIO(response.content))\n",
    "    img.save(filename)"
   ]
  },
  {
   "cell_type": "markdown",
   "id": "5b0082f6-ab1d-40a1-85b4-f594ef119dae",
   "metadata": {},
   "source": [
    "Here, you defined a function `save_image_to_local` that takes an image URL and a filename as input. This function downloads the image using the `requests` library, opens it with `PIL`, and saves it to the specified filename.\n",
    "\n",
    "Next, you want to define a function to display multiple images in a grid. This is useful when you generate more than 1 image."
   ]
  },
  {
   "cell_type": "code",
   "execution_count": null,
   "id": "83a0680d-2a4a-413c-8140-7ca26b19ee69",
   "metadata": {},
   "outputs": [],
   "source": [
    "# Define a function to display multiple images in a grid\n",
    "def display_images_in_grid(image_urls):\n",
    "    num_images = len(image_urls)\n",
    "    grid_size = int(num_images**0.5)\n",
    "    fig, axes = plt.subplots(grid_size, grid_size, figsize=(10, 10))\n",
    "    for i, image_url in enumerate(image_urls):\n",
    "        response = requests.get(image_url)\n",
    "        img = Image.open(BytesIO(response.content))\n",
    "        row, col = divmod(i, grid_size)\n",
    "        axes[row, col].imshow(img)\n",
    "        axes[row, col].axis('off')\n",
    "    plt.show()"
   ]
  },
  {
   "cell_type": "markdown",
   "id": "6c03a2e2-99b4-4155-816f-a713d837e911",
   "metadata": {},
   "source": [
    "Here, you defined a function `display_images_in_grid` that takes a list of image URLs as input. This function calculates the grid size based on the number of images, downloads each image using the `requests` library, opens it with `PIL`, and displays all images in a grid using `matplotlib.pyplot`."
   ]
  },
  {
   "cell_type": "markdown",
   "id": "dc6f13b0-a720-40fd-8481-b7be3eefaca8",
   "metadata": {},
   "source": [
    "## Generating Images using DALL-3"
   ]
  },
  {
   "cell_type": "markdown",
   "id": "2c44eeee-8aac-42a7-86b7-5183e68bfa58",
   "metadata": {},
   "source": [
    "After defining functions, now you can generate and display an image with DALL-E 3."
   ]
  },
  {
   "cell_type": "code",
   "execution_count": null,
   "id": "89c180c1-d40e-4db1-83fe-d542806922fb",
   "metadata": {},
   "outputs": [],
   "source": [
    "# Generate and display an image with DALL-E 3\n",
    "dalle_model = \"dall-e-3\"\n",
    "dalle_prompt = \"a samurai cat is eating ramen\"\n",
    "image_size = \"1024x1792\"\n",
    "image_quality = \"standard\"\n",
    "\n",
    "response = generate_image(client, dalle_model, dalle_prompt, image_size, image_quality)\n",
    "image_url = response.data[0].url\n",
    "display_image_from_url(image_url)"
   ]
  },
  {
   "cell_type": "markdown",
   "id": "b9b59a7e-07e9-4758-9d8a-de7cddb53800",
   "metadata": {},
   "source": [
    "Here, you set up parameters for the DALL-E 3 model, including the prompt, image size, and quality. You then use the `generate_image` function to create the image and get the URL of the generated image. Finally, you use the `display_image_from_url` function to display the image. You use the `dall-e-3` model, the `1024x1792` image size, the `standard` image quality, and the most important parameter, the `prompt` parameter. You conjure the image of \"a samurai cat is eating ramen\" with the `prompt` parameter. Your wish is granted!\n",
    "\n",
    "You now want to change the image quality and size while generating an image with DALL-E 3. Why don't you create a landscape image?"
   ]
  },
  {
   "cell_type": "code",
   "execution_count": null,
   "id": "ec11cc8c-fbd7-432f-84da-4284c062eb9e",
   "metadata": {},
   "outputs": [],
   "source": [
    "# Change the image quality and size\n",
    "image_quality = \"hd\"\n",
    "image_size = \"1792x1024\"\n",
    "\n",
    "response = generate_image(client, dalle_model, dalle_prompt, image_size, image_quality)\n",
    "image_url = response.data[0].url\n",
    "display_image_from_url(image_url)"
   ]
  },
  {
   "cell_type": "markdown",
   "id": "9a53bbe9-1ae8-42a9-9a9a-8fb75d31396a",
   "metadata": {},
   "source": [
    "Here, you updated the image quality to `hd` and the image size to `1792x1024`. You then used the `generate_image` function to create the image with the new parameters and get the URL of the generated image. Finally, you used the `display_image_from_url` function to display the image.\n",
    "\n",
    "You now want to change the image quality and style while generating an image with DALL-E 3."
   ]
  },
  {
   "cell_type": "code",
   "execution_count": null,
   "id": "eacad4b5-4c65-4eb8-ab0d-f826f1133a49",
   "metadata": {},
   "outputs": [],
   "source": [
    "# Change image quality and style\n",
    "image_quality = \"standard\"\n",
    "image_style = \"natural\"\n",
    "\n",
    "response = generate_image(client, dalle_model, dalle_prompt, image_size, image_quality, image_style)\n",
    "image_url = response.data[0].url\n",
    "display_image_from_url(image_url)"
   ]
  },
  {
   "cell_type": "markdown",
   "id": "18bc3eec-a495-4616-b95e-179119f012d0",
   "metadata": {},
   "source": [
    "Here, you updated the image quality to `standard` and added a new parameter, `image_style`, set to `natural`. You then used the `generate_image` function to create the image with the new parameters and get the URL of the generated image. Finally, you used the `display_image_from_url` function to display the image.\n",
    "\n",
    "As you can see, the image doesn't have the high-definition quality."
   ]
  },
  {
   "cell_type": "markdown",
   "id": "36e68c8c-7e3f-4bb2-84dc-a5c3c9d4f283",
   "metadata": {},
   "source": [
    "## Generating Images Using DALL-2"
   ]
  },
  {
   "cell_type": "markdown",
   "id": "e57d3680-b9a1-472a-8969-48cd02d291e8",
   "metadata": {},
   "source": [
    "You now want to generate multiple images with DALL-E 2 using the value 4 for the `n` parameter and display them in a grid. The value bigger than 1 for the `n` parameter is only supported in DALL-E 2.\n",
    "\n",
    "However, the `style` and `quality` parameters are not available, and only square sizes like `256x256`, `512x512`, or `1024x1024` are supported."
   ]
  },
  {
   "cell_type": "code",
   "execution_count": null,
   "id": "011c32bb-3618-457a-be7b-d04811af5f1e",
   "metadata": {},
   "outputs": [],
   "source": [
    "# Generate multiple images with DALL-E 2\n",
    "dalle_model = \"dall-e-2\"\n",
    "image_size = \"512x512\"\n",
    "dalle_prompt = \"a samurai cat is singing on a stage\"\n",
    "\n",
    "response = generate_image(client, dalle_model, dalle_prompt, image_size, n=4)\n",
    "image_urls = [img.url for img in response.data]\n",
    "display_images_in_grid(image_urls)"
   ]
  },
  {
   "cell_type": "markdown",
   "id": "55c4ad06-e45b-4bf7-8b32-698c090ed760",
   "metadata": {},
   "source": [
    "Here, you set up the parameters for the DALL-E 2 model, including the prompt and image size. You then used the `generate_image` function to create four images and obtained their URLs. Finally, you used the `display_images_in_grid` function to display the images in a grid."
   ]
  },
  {
   "cell_type": "markdown",
   "id": "6fe5e633-8d5e-4ad8-8391-4d9e22f8e2ff",
   "metadata": {},
   "source": [
    "## Response Format"
   ]
  },
  {
   "cell_type": "markdown",
   "id": "b2cfb020-77c1-4c7a-a2b3-5c673697c2ca",
   "metadata": {},
   "source": [
    "You can receive images not from URLs but with the base64 string from the response. Generate an image in base64 format and display it."
   ]
  },
  {
   "cell_type": "code",
   "execution_count": null,
   "id": "e895260e-d42e-4ffc-9d3e-1bf4f9b761e2",
   "metadata": {},
   "outputs": [],
   "source": [
    "# Generate an image in base64 format\n",
    "image_response_format = \"b64_json\"\n",
    "\n",
    "response = generate_image(client, dalle_model, dalle_prompt, image_size, response_format=image_response_format)\n",
    "b64_string = response.data[0].b64_json\n",
    "display_image_from_base64(b64_string)"
   ]
  },
  {
   "cell_type": "markdown",
   "id": "0a650bbd-ca61-4c13-817e-f437c13f177d",
   "metadata": {},
   "source": [
    "Here, you specify the response format as `b64_json` to get the image in base64 format. You then use the `generate_image` function to create the image and obtain the base64 string. Finally, you use the `display_image_from_base64` function to display the image."
   ]
  },
  {
   "cell_type": "markdown",
   "id": "b0b8b772-7c96-4551-a1da-8a3750a3607b",
   "metadata": {},
   "source": [
    "## Saving Images to Local Storage"
   ]
  },
  {
   "cell_type": "markdown",
   "id": "7b7f2395-54a9-4ea3-94cd-c594c314202e",
   "metadata": {},
   "source": [
    "You now want to save the generated image to a local file."
   ]
  },
  {
   "cell_type": "code",
   "execution_count": null,
   "id": "84baeb34-1473-474e-a86a-a342d0bd4da4",
   "metadata": {},
   "outputs": [],
   "source": [
    "# Save the image to a local file\n",
    "file_path = \"samurai_cat_singing_on_stage.png\"\n",
    "\n",
    "response = generate_image(client, dalle_model, dalle_prompt, image_size, image_quality)\n",
    "image_url = response.data[0].url\n",
    "save_image_to_local(image_url, file_path)"
   ]
  },
  {
   "cell_type": "markdown",
   "id": "94d3b959-fbb5-4b89-8d57-d2269d83513d",
   "metadata": {},
   "source": [
    "Here, you specify the file path where you want to save the image. After generating the image, you use the `save_image_to_local` function to save the image to the specified file path. There will be a new image file inside the current directory."
   ]
  },
  {
   "cell_type": "markdown",
   "id": "8fbb0718-024c-4160-9330-16552f88026f",
   "metadata": {},
   "source": [
    "## Using DALL-E 2 API for Variations"
   ]
  },
  {
   "cell_type": "markdown",
   "id": "aa48c8ca-beb3-4e1a-b38a-cb5629936c45",
   "metadata": {},
   "source": [
    "With DALL-E 2, you can create variations of an image. First, you'll want to view an image, such as the Kodeco logo."
   ]
  },
  {
   "cell_type": "code",
   "execution_count": null,
   "id": "b7355aac-d4d5-4fe3-8c4b-df375a9fcdea",
   "metadata": {},
   "outputs": [],
   "source": [
    "# Create variations of an image with DALL-E 2\n",
    "\n",
    "# Define the path to the logo image\n",
    "logo_path = \"images/kodeco.png\"\n",
    "\n",
    "# Open the image\n",
    "with open(logo_path, \"rb\") as f:\n",
    "    # Call the API to create variations\n",
    "    response = client.images.create_variation(\n",
    "      model=\"dall-e-2\",\n",
    "      image=f,\n",
    "      n=4,\n",
    "      size=\"512x512\"\n",
    "    )\n",
    "\n",
    "# Display images in a grid\n",
    "image_urls = [img.url for img in response.data]\n",
    "display_images_in_grid(image_urls)"
   ]
  },
  {
   "cell_type": "markdown",
   "id": "9a9e6cff-fc5a-4aa0-b21f-75175a3721a5",
   "metadata": {},
   "source": [
    "## Implementing Image Editing with DALL-E API"
   ]
  },
  {
   "cell_type": "markdown",
   "id": "44f7ff00-e9fd-40c9-a486-80adeaae93a0",
   "metadata": {},
   "source": [
    "DALL-E also allows you to edit existing images, but this feature is currently available only with DALL-E 2, so you must use the correct model."
   ]
  },
  {
   "cell_type": "markdown",
   "id": "38d2f68f-c9a8-4b83-a4eb-5dc44b702a49",
   "metadata": {},
   "source": [
    "First, take a look at the image you want to edit with DALL-E—it's a cat CEO image!"
   ]
  },
  {
   "cell_type": "code",
   "execution_count": null,
   "id": "ed908a3f-8f8a-41a4-9cf0-984c562e2f5a",
   "metadata": {},
   "outputs": [],
   "source": [
    "# Display the original image\n",
    "\n",
    "# Image path\n",
    "cat_ceo_image_path = \"images/cat_ceo.png\"\n",
    "\n",
    "# Open the image\n",
    "img = Image.open(cat_ceo_image_path)\n",
    "\n",
    "# Display the image\n",
    "plt.imshow(img)\n",
    "plt.axis('off')\n",
    "plt.show()"
   ]
  },
  {
   "cell_type": "markdown",
   "id": "e371656d-5e60-49a0-8d59-0d168a62a99b",
   "metadata": {},
   "source": [
    "This is a cool cat CEO! But you want to make it even cooler by adding a computer on the table. To do this, you need to delete parts of the table and window and replace them with transparent pixels, creating a mask image.\n",
    "\n",
    "To create the mask, use an image editor like Photoshop, Gimp, or Photopea. Remove the parts of the image where you want the DALL-E API to generate new pixels. You can also use an online tool like Online PNG Tools, which is convenient if you don't want to install software.\n",
    "\n",
    "Here's how to do it with Gimp:"
   ]
  },
  {
   "cell_type": "code",
   "execution_count": null,
   "id": "45000c34-f982-4a9e-a00f-a62fd4922cac",
   "metadata": {},
   "outputs": [],
   "source": [
    "from IPython.display import Video\n",
    "\n",
    "video_path = 'videos/add_transparency_in_gimp.mp4'\n",
    "\n",
    "Video(video_path, width=600, height=400)"
   ]
  },
  {
   "cell_type": "markdown",
   "id": "e8f4ee66-3141-4699-9711-bf8916ca455e",
   "metadata": {},
   "source": [
    "Now that you have both the image and the mask image, you can edit the image using the DALL-E API."
   ]
  },
  {
   "cell_type": "code",
   "execution_count": null,
   "id": "583504c6-94cb-4686-a769-7183fc3ba8a3",
   "metadata": {},
   "outputs": [],
   "source": [
    "# Edit an image using DALL-E 2\n",
    "\n",
    "# Define the paths to the original image and mask image\n",
    "original_image_path = \"images/cat_ceo.png\"\n",
    "mask_image_path = \"images/cat_ceo_mask.png\"\n",
    "\n",
    "# Define the prompt for the edit\n",
    "image_prompt = \"Show a dog CEO.\"\n",
    "\n",
    "# Call the API to edit the image\n",
    "with open(original_image_path, \"rb\") as image_file, open(mask_image_path, \"rb\") as mask_file:\n",
    "    edit_response = client.images.edit(\n",
    "        image=image_file,\n",
    "        mask=mask_file,\n",
    "        prompt=image_prompt,\n",
    "        n=1,\n",
    "        size=\"1024x1024\"\n",
    "    )"
   ]
  },
  {
   "cell_type": "markdown",
   "id": "2b155f82-cfdc-41fd-96ac-95dddb1a95b8",
   "metadata": {},
   "source": [
    "After generating the edited image, download and display it!"
   ]
  },
  {
   "cell_type": "code",
   "execution_count": null,
   "id": "03c42482-d5a9-4496-8090-a36bae72af52",
   "metadata": {},
   "outputs": [],
   "source": [
    "# Download and display the edited image\n",
    "\n",
    "# Retrieve the image URL\n",
    "image_url = edit_response.data[0].url\n",
    "\n",
    "# Download the image\n",
    "response = requests.get(image_url)\n",
    "\n",
    "# Create an image object\n",
    "img = Image.open(BytesIO(response.content))\n",
    "\n",
    "# Display the image\n",
    "plt.imshow(img)\n",
    "plt.axis('off')\n",
    "plt.show()"
   ]
  },
  {
   "cell_type": "markdown",
   "id": "35f368e3-75ee-4592-bf94-c055e9f7b4ef",
   "metadata": {},
   "source": [
    "## Combining Text and Image Generation"
   ]
  },
  {
   "cell_type": "markdown",
   "id": "808c1dce-c0cb-40f5-baa8-9159ad6067b6",
   "metadata": {},
   "source": [
    "Next, you'll create a simple application that combines text and image generation. This application will be a food recipe generator that provides both a recipe and an image of the dish. For text generation, you'll use a different OpenAI API, not the DALL-E API. Please refer to the previous course on OpenAI text generation for guidance."
   ]
  },
  {
   "cell_type": "code",
   "execution_count": null,
   "id": "f17d0e01-e9f6-493e-b852-b8dd3a97c857",
   "metadata": {},
   "outputs": [],
   "source": [
    "# Combine text and image generation\n",
    "\n",
    "# Function to generate a recipe with an image of the food\n",
    "def generate_recipe(food: str) -> str:\n",
    "\n",
    "    # Generate ingredients\n",
    "    completion = client.chat.completions.create(\n",
    "        model=\"gpt-4o\",\n",
    "        messages=[\n",
    "            {\"role\": \"system\", \"content\": \"You're an expert in culinary and cooking.\"},\n",
    "            {\n",
    "                \"role\": \"user\",\n",
    "                \"content\": f\"Provide recipe of {food}.\"\n",
    "            }\n",
    "        ]\n",
    "    )\n",
    "    \n",
    "    # Extract the recipe description\n",
    "    recipe_description = completion.choices[0].message.content\n",
    "\n",
    "    # Prompt for DALL-E image generation\n",
    "    dalle_prompt = f\"a hyper-realistic image of {food}\"\n",
    "    # DALL-E model and image size\n",
    "    dalle_model = \"dall-e-3\"\n",
    "    image_size = \"1792x1024\"\n",
    "\n",
    "    # Image Generation\n",
    "    response = client.images.generate(\n",
    "      model=dalle_model,\n",
    "      prompt=dalle_prompt,\n",
    "      size=image_size,\n",
    "      n=1,\n",
    "    )\n",
    "    \n",
    "    # Retrieve the image URL\n",
    "    image_url = response.data[0].url\n",
    "    \n",
    "    # Download the image\n",
    "    response = requests.get(image_url)\n",
    "    \n",
    "    # Open the image\n",
    "    img = Image.open(BytesIO(response.content))\n",
    "\n",
    "    # Displaying the image\n",
    "    plt.imshow(img)\n",
    "    plt.axis('off')\n",
    "    plt.show()\n",
    "\n",
    "    # You can also save the image if you want\n",
    "\n",
    "    # Return the recipe description\n",
    "    return recipe_description"
   ]
  },
  {
   "cell_type": "markdown",
   "id": "54f6e1d7-8a17-44bf-ac95-0683f68ef5be",
   "metadata": {},
   "source": [
    "To execute the function, why not start by getting the recipe for Chicken Tikka Masala?"
   ]
  },
  {
   "cell_type": "code",
   "execution_count": null,
   "id": "1a2ee374-170e-44fc-b676-cfd180d6ea0a",
   "metadata": {},
   "outputs": [],
   "source": [
    "# Generate a recipe for Chicken Tikka Masala\n",
    "chicken_tikka_masala_recipe = generate_recipe(\"Chicken Tikka Masala\")\n",
    "print(chicken_tikka_masala_recipe)"
   ]
  },
  {
   "cell_type": "markdown",
   "id": "7bfdcd55-f858-4469-b09c-f68417d3c0eb",
   "metadata": {},
   "source": [
    "Then, test the application with another dish. How about Spaghetti Bolognese?"
   ]
  },
  {
   "cell_type": "code",
   "execution_count": null,
   "id": "c6077cc5-5f1a-4a98-a8e1-293b5cc677a6",
   "metadata": {},
   "outputs": [],
   "source": [
    "# Generate a recipe for Spaghetti Bolognese\n",
    "spaghetti_bolognese_recipe = generate_recipe(\"Spaghetti Bolognese\")\n",
    "print(spaghetti_bolognese_recipe)"
   ]
  }
 ],
 "metadata": {
  "kernelspec": {
   "display_name": "Python 3 (ipykernel)",
   "language": "python",
   "name": "python3"
  },
  "language_info": {
   "codemirror_mode": {
    "name": "ipython",
    "version": 3
   },
   "file_extension": ".py",
   "mimetype": "text/x-python",
   "name": "python",
   "nbconvert_exporter": "python",
   "pygments_lexer": "ipython3",
   "version": "3.12.3"
  }
 },
 "nbformat": 4,
 "nbformat_minor": 5
}
