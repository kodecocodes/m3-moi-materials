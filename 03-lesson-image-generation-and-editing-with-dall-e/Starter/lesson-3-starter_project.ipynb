{
 "cells": [
  {
   "cell_type": "markdown",
   "id": "eb39f983-c17f-45f2-9bea-51769d717eb4",
   "metadata": {},
   "source": [
    "# Lesson 3 Project: Image Generation & Editing with DALL-E"
   ]
  },
  {
   "cell_type": "markdown",
   "id": "c0caf255-e696-4e01-831b-3df5e266060c",
   "metadata": {},
   "source": [
    "## Introduction"
   ]
  },
  {
   "cell_type": "markdown",
   "id": "505c6a33-9073-443a-bdc1-b6886450fdc5",
   "metadata": {},
   "source": [
    "Welcome to Lesson 3 of our course on multimodal AI! Today, you're stepping into the fascinating world of AI-powered image generation and editing using DALL-E. Imagine being able to create or modify images simply by describing what you want in words.\n",
    "\n",
    "In this lesson, you'll learn the art of crafting effective text prompts to generate the images you envision, and discover how to harness DALL-E's power for image editing tasks.\n",
    "\n",
    "By the end of this lesson, you will be able to:\n",
    "- Use DALL-E API for generating images based on text prompts\n",
    "- Implement an image editing feature using DALL-E\n",
    "- Combine text and image generation in a single application\n",
    "\n",
    "Get ready to turn your words into visuals and push the boundaries of creativity with DALL-E!"
   ]
  },
  {
   "cell_type": "markdown",
   "id": "4a7788bb-2e32-4cad-99e4-bbe823997a38",
   "metadata": {},
   "source": [
    "## Setting Up OpenAI Development Environment"
   ]
  },
  {
   "cell_type": "markdown",
   "id": "5eddca67-e52c-4771-8fd4-8f5fd5d6d3cf",
   "metadata": {},
   "source": [
    "Refer to the Python Crash Course lesson to learn how to set up your OpenAI development environment."
   ]
  },
  {
   "cell_type": "code",
   "execution_count": null,
   "id": "b1e5385f-dc12-4be7-aaf8-b69f7a55d823",
   "metadata": {},
   "outputs": [],
   "source": []
  },
  {
   "cell_type": "markdown",
   "id": "0c54bb04-f172-4630-ae8a-7a3e6919e9f4",
   "metadata": {},
   "source": [
    "## Using DALL-E API for Generating Images"
   ]
  },
  {
   "cell_type": "markdown",
   "id": "f157ed63-4edb-4617-ad25-0d4fafe10967",
   "metadata": {},
   "source": [
    "DALL-E is a powerful AI model that can generate images from textual descriptions. To begin, you can generate an image using DALL-E 3."
   ]
  },
  {
   "cell_type": "code",
   "execution_count": null,
   "id": "d8d4120a-bf91-4005-a275-ee6aba0e1b05",
   "metadata": {},
   "outputs": [],
   "source": []
  },
  {
   "cell_type": "markdown",
   "id": "9ecc16d1-00a7-49c9-89ce-5c149b12ddd6",
   "metadata": {},
   "source": [
    "Now, you can download the image."
   ]
  },
  {
   "cell_type": "code",
   "execution_count": null,
   "id": "03a648de-dc2b-45e5-a76f-39d5a5bd2f74",
   "metadata": {},
   "outputs": [],
   "source": []
  },
  {
   "cell_type": "markdown",
   "id": "c0da92c4-9333-44a4-bde9-a3a2953cac9e",
   "metadata": {},
   "source": [
    "To view the image, you can use the `matplotlib` library."
   ]
  },
  {
   "cell_type": "code",
   "execution_count": null,
   "id": "50bbe35f-85e8-4e63-9f73-1623dc24306a",
   "metadata": {},
   "outputs": [],
   "source": []
  },
  {
   "cell_type": "markdown",
   "id": "3a8d9d24-3ebe-48ee-92c9-b1d7b7c3fbbd",
   "metadata": {},
   "source": [
    "### Parameters for DALL-E 3"
   ]
  },
  {
   "cell_type": "markdown",
   "id": "9597d169-41b4-4d5c-855d-745a7d4f2c43",
   "metadata": {},
   "source": [
    "You can experiment with a different quality by using the `hd` value and select a different size, like `1792x1024`."
   ]
  },
  {
   "cell_type": "code",
   "execution_count": null,
   "id": "32f512aa-b4b7-4c54-8903-5a97aa8730f2",
   "metadata": {},
   "outputs": [],
   "source": []
  },
  {
   "cell_type": "markdown",
   "id": "3a9f691a-a493-446f-b21b-8f65e4501ff9",
   "metadata": {},
   "source": [
    "Another parameter is `style`. The default value, `vivid`, produces a hyper-realistic image. You can try the `natural` style instead."
   ]
  },
  {
   "cell_type": "code",
   "execution_count": null,
   "id": "0a58c3b0-9e2f-44fb-aee9-3584c337ca67",
   "metadata": {},
   "outputs": [],
   "source": []
  },
  {
   "cell_type": "markdown",
   "id": "839b40ff-9c88-4ff1-973f-d5dc61dd3727",
   "metadata": {},
   "source": [
    "### Parameters for DALL-E 2"
   ]
  },
  {
   "cell_type": "markdown",
   "id": "6026d798-e0a4-4c76-8c07-9c83eacdf31c",
   "metadata": {},
   "source": [
    "With DALL-E 2, you can generate multiple images in a single API call. However, the `style` and `quality` parameters are not available, and only square sizes like `256x256`, `512x512`, or `1024x1024` are supported."
   ]
  },
  {
   "cell_type": "code",
   "execution_count": null,
   "id": "e85d2e43-b331-4ae0-91ad-c0063e54a63d",
   "metadata": {},
   "outputs": [],
   "source": []
  },
  {
   "cell_type": "markdown",
   "id": "1bdfeb7b-7978-4225-bb0a-b8e095cb98a2",
   "metadata": {},
   "source": [
    "### Response Format"
   ]
  },
  {
   "cell_type": "markdown",
   "id": "22fee61b-a97c-4a9f-9284-dc1c53b784bb",
   "metadata": {},
   "source": [
    "You've previously displayed images inline from URLs. If you want to save images to local storage, you can follow these steps:"
   ]
  },
  {
   "cell_type": "code",
   "execution_count": null,
   "id": "194eea98-d5ed-45ec-9005-23210e9e80dc",
   "metadata": {},
   "outputs": [],
   "source": []
  },
  {
   "cell_type": "markdown",
   "id": "fb28a529-2f1f-4711-a442-1dba9227260d",
   "metadata": {},
   "source": [
    "Instead of receiving an image via a URL, you can also get the image in `base64` format by using the `response_format` parameter. The default value is `url`, but you can switch to the `b64_json` value."
   ]
  },
  {
   "cell_type": "code",
   "execution_count": null,
   "id": "850f8d33-cbf3-4c48-a15e-8c1e4d4cfff8",
   "metadata": {},
   "outputs": [],
   "source": []
  },
  {
   "cell_type": "markdown",
   "id": "f3d9276f-5e01-4dd5-ae31-3546b7ed2e73",
   "metadata": {},
   "source": [
    "Next, extract the `base64` string from the JSON response before loading it into the `Image` object."
   ]
  },
  {
   "cell_type": "code",
   "execution_count": null,
   "id": "ac941d2e-729e-4418-a490-fc87a882ffa8",
   "metadata": {},
   "outputs": [],
   "source": []
  },
  {
   "cell_type": "markdown",
   "id": "8fbb0718-024c-4160-9330-16552f88026f",
   "metadata": {},
   "source": [
    "## Using DALL-E 2 API for Variations"
   ]
  },
  {
   "cell_type": "markdown",
   "id": "aa48c8ca-beb3-4e1a-b38a-cb5629936c45",
   "metadata": {},
   "source": [
    "With DALL-E 2, you can create variations of an image. First, you'll want to view an image, such as the Kodeco logo."
   ]
  },
  {
   "cell_type": "code",
   "execution_count": null,
   "id": "b7355aac-d4d5-4fe3-8c4b-df375a9fcdea",
   "metadata": {},
   "outputs": [],
   "source": []
  },
  {
   "cell_type": "markdown",
   "id": "ac177132-3424-4f00-a244-d165af6c964a",
   "metadata": {},
   "source": [
    "Now, generate variations of this logo. This feature is particularly useful when designing a logo for your next startup."
   ]
  },
  {
   "cell_type": "code",
   "execution_count": null,
   "id": "5736391f-dec1-4b9e-990c-7ee248eee868",
   "metadata": {},
   "outputs": [],
   "source": []
  },
  {
   "cell_type": "markdown",
   "id": "9a9e6cff-fc5a-4aa0-b21f-75175a3721a5",
   "metadata": {},
   "source": [
    "## Implementing Image Editing with DALL-E API"
   ]
  },
  {
   "cell_type": "markdown",
   "id": "44f7ff00-e9fd-40c9-a486-80adeaae93a0",
   "metadata": {},
   "source": [
    "DALL-E also allows you to edit existing images, but this feature is currently available only with DALL-E 2, so you must use the correct model."
   ]
  },
  {
   "cell_type": "markdown",
   "id": "38d2f68f-c9a8-4b83-a4eb-5dc44b702a49",
   "metadata": {},
   "source": [
    "First, take a look at the image you want to edit with DALL-E—it's a cat CEO image!"
   ]
  },
  {
   "cell_type": "code",
   "execution_count": null,
   "id": "ed908a3f-8f8a-41a4-9cf0-984c562e2f5a",
   "metadata": {},
   "outputs": [],
   "source": []
  },
  {
   "cell_type": "markdown",
   "id": "e371656d-5e60-49a0-8d59-0d168a62a99b",
   "metadata": {},
   "source": [
    "This is a cool cat CEO! But you want to make it even cooler by adding a computer on the table. To do this, you need to delete parts of the table and window and replace them with transparent pixels, creating a mask image.\n",
    "\n",
    "To create the mask, use an image editor like Photoshop, Gimp, or Photopea. Remove the parts of the image where you want the DALL-E API to generate new pixels. You can also use an online tool like Online PNG Tools, which is convenient if you don't want to install software.\n",
    "\n",
    "Here's how to do it with Gimp:"
   ]
  },
  {
   "cell_type": "code",
   "execution_count": null,
   "id": "45000c34-f982-4a9e-a00f-a62fd4922cac",
   "metadata": {},
   "outputs": [],
   "source": [
    "from IPython.display import Video\n",
    "\n",
    "video_path = '../Final/videos/add_transparency_in_gimp.mp4'\n",
    "\n",
    "Video(video_path, width=600, height=400)"
   ]
  },
  {
   "cell_type": "markdown",
   "id": "e8f4ee66-3141-4699-9711-bf8916ca455e",
   "metadata": {},
   "source": [
    "Now that you have both the image and the mask image, you can edit the image using the DALL-E API."
   ]
  },
  {
   "cell_type": "code",
   "execution_count": null,
   "id": "583504c6-94cb-4686-a769-7183fc3ba8a3",
   "metadata": {},
   "outputs": [],
   "source": []
  },
  {
   "cell_type": "markdown",
   "id": "2b155f82-cfdc-41fd-96ac-95dddb1a95b8",
   "metadata": {},
   "source": [
    "After generating the edited image, download and display it!"
   ]
  },
  {
   "cell_type": "code",
   "execution_count": null,
   "id": "03c42482-d5a9-4496-8090-a36bae72af52",
   "metadata": {},
   "outputs": [],
   "source": []
  },
  {
   "cell_type": "markdown",
   "id": "35f368e3-75ee-4592-bf94-c055e9f7b4ef",
   "metadata": {},
   "source": [
    "## Combining Text and Image Generation"
   ]
  },
  {
   "cell_type": "markdown",
   "id": "808c1dce-c0cb-40f5-baa8-9159ad6067b6",
   "metadata": {},
   "source": [
    "Next, you'll create a simple application that combines text and image generation. This application will be a food recipe generator that provides both a recipe and an image of the dish. For text generation, you'll use a different OpenAI API, not the DALL-E API. Please refer to the previous course on OpenAI text generation for guidance."
   ]
  },
  {
   "cell_type": "code",
   "execution_count": null,
   "id": "f17d0e01-e9f6-493e-b852-b8dd3a97c857",
   "metadata": {},
   "outputs": [],
   "source": []
  },
  {
   "cell_type": "markdown",
   "id": "54f6e1d7-8a17-44bf-ac95-0683f68ef5be",
   "metadata": {},
   "source": [
    "To execute the function, why not start by getting the recipe for Chicken Tikka Masala?"
   ]
  },
  {
   "cell_type": "code",
   "execution_count": null,
   "id": "1a2ee374-170e-44fc-b676-cfd180d6ea0a",
   "metadata": {},
   "outputs": [],
   "source": []
  },
  {
   "cell_type": "markdown",
   "id": "7bfdcd55-f858-4469-b09c-f68417d3c0eb",
   "metadata": {},
   "source": [
    "Then, test the application with another dish. How about Spaghetti Bolognese?"
   ]
  },
  {
   "cell_type": "code",
   "execution_count": null,
   "id": "c6077cc5-5f1a-4a98-a8e1-293b5cc677a6",
   "metadata": {},
   "outputs": [],
   "source": []
  },
  {
   "cell_type": "code",
   "execution_count": null,
   "id": "ae5d1e2c-4b8e-4f5a-9bd2-4acf84991a1b",
   "metadata": {},
   "outputs": [],
   "source": []
  }
 ],
 "metadata": {
  "kernelspec": {
   "display_name": "Python 3 (ipykernel)",
   "language": "python",
   "name": "python3"
  },
  "language_info": {
   "codemirror_mode": {
    "name": "ipython",
    "version": 3
   },
   "file_extension": ".py",
   "mimetype": "text/x-python",
   "name": "python",
   "nbconvert_exporter": "python",
   "pygments_lexer": "ipython3",
   "version": "3.12.3"
  }
 },
 "nbformat": 4,
 "nbformat_minor": 5
}
