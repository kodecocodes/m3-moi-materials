{
 "cells": [
  {
   "cell_type": "markdown",
   "id": "eb39f983-c17f-45f2-9bea-51769d717eb4",
   "metadata": {},
   "source": [
    "# Lesson 3 Project: Image Generation & Editing with DALL-E"
   ]
  },
  {
   "cell_type": "markdown",
   "id": "c0caf255-e696-4e01-831b-3df5e266060c",
   "metadata": {},
   "source": [
    "## Introduction"
   ]
  },
  {
   "cell_type": "markdown",
   "id": "505c6a33-9073-443a-bdc1-b6886450fdc5",
   "metadata": {},
   "source": [
    "Welcome to Lesson 3 of our course on multimodal AI! Today, you're stepping into the fascinating world of AI-powered image generation and editing using DALL-E. Imagine being able to create or modify images simply by describing what you want in words.\n",
    "\n",
    "In this lesson, you'll learn the art of crafting effective text prompts to generate the images you envision, and discover how to harness DALL-E's power for image editing tasks.\n",
    "\n",
    "By the end of this lesson, you will be able to:\n",
    "- Use DALL-E API for generating images based on text prompts\n",
    "- Implement an image editing feature using DALL-E\n",
    "- Combine text and image generation in a single application\n",
    "\n",
    "Get ready to turn your words into visuals and push the boundaries of creativity with DALL-E!"
   ]
  },
  {
   "cell_type": "markdown",
   "id": "4a7788bb-2e32-4cad-99e4-bbe823997a38",
   "metadata": {},
   "source": [
    "## Setting Up OpenAI Development Environment"
   ]
  },
  {
   "cell_type": "markdown",
   "id": "5eddca67-e52c-4771-8fd4-8f5fd5d6d3cf",
   "metadata": {},
   "source": [
    "Refer to the Python Crash Course lesson to learn how to set up your OpenAI development environment."
   ]
  },
  {
   "cell_type": "code",
   "execution_count": 1,
   "id": "fb749f3f-2239-41ff-9481-7e4a41f341ad",
   "metadata": {},
   "outputs": [],
   "source": [
    "# Load the OpenAI library\n",
    "# Set up relevant environment variables\n",
    "# Create the OpenAI connection object"
   ]
  },
  {
   "cell_type": "markdown",
   "id": "0c54bb04-f172-4630-ae8a-7a3e6919e9f4",
   "metadata": {},
   "source": [
    "## Using DALL-E API for Generating Images"
   ]
  },
  {
   "cell_type": "markdown",
   "id": "f157ed63-4edb-4617-ad25-0d4fafe10967",
   "metadata": {},
   "source": [
    "DALL-E is a powerful AI model that can generate images from textual descriptions. Let's start by creating a simple function to generate an image using DALL-E."
   ]
  },
  {
   "cell_type": "code",
   "execution_count": 2,
   "id": "d8d4120a-bf91-4005-a275-ee6aba0e1b05",
   "metadata": {},
   "outputs": [],
   "source": [
    "# Create a function to generate an image based on a text query"
   ]
  },
  {
   "cell_type": "markdown",
   "id": "9ecc16d1-00a7-49c9-89ce-5c149b12ddd6",
   "metadata": {},
   "source": [
    "Now, let's test our function by generating an image."
   ]
  },
  {
   "cell_type": "code",
   "execution_count": 3,
   "id": "03a648de-dc2b-45e5-a76f-39d5a5bd2f74",
   "metadata": {},
   "outputs": [],
   "source": [
    "# Execute the function and show the image"
   ]
  },
  {
   "cell_type": "markdown",
   "id": "c0da92c4-9333-44a4-bde9-a3a2953cac9e",
   "metadata": {},
   "source": [
    "If you want to save the image to a file, you can do this."
   ]
  },
  {
   "cell_type": "code",
   "execution_count": 4,
   "id": "50bbe35f-85e8-4e63-9f73-1623dc24306a",
   "metadata": {},
   "outputs": [],
   "source": [
    "# Save the image to a file"
   ]
  },
  {
   "cell_type": "markdown",
   "id": "9a9e6cff-fc5a-4aa0-b21f-75175a3721a5",
   "metadata": {},
   "source": [
    "## Implementing Image Editing with DALL-E API"
   ]
  },
  {
   "cell_type": "markdown",
   "id": "44f7ff00-e9fd-40c9-a486-80adeaae93a0",
   "metadata": {},
   "source": [
    "DALL-E also allows us to edit existing images. This feature is currently available only with DALL-E 2. So you must use the correct model."
   ]
  },
  {
   "cell_type": "markdown",
   "id": "99a1d2ac-bcb8-4a36-8c6f-8b9b27c00343",
   "metadata": {},
   "source": [
    "First, prepare an image then create a mask image for the image. To create the mask image, you can use an image editor like [Photoshop](https://www.adobe.com/products/photoshop.html), [Gimp](https://gimp.org), or [Photopea](https://photopea.com). Delete the part where you want the DALL-E API to generate new pixels."
   ]
  },
  {
   "cell_type": "code",
   "execution_count": 5,
   "id": "583504c6-94cb-4686-a769-7183fc3ba8a3",
   "metadata": {},
   "outputs": [],
   "source": [
    "original_image = \"../../path_to_image\"\n",
    "mask_image = \"../../path_to_mask_image\""
   ]
  },
  {
   "cell_type": "markdown",
   "id": "2b155f82-cfdc-41fd-96ac-95dddb1a95b8",
   "metadata": {},
   "source": [
    "Let's create a function to edit an image."
   ]
  },
  {
   "cell_type": "code",
   "execution_count": 6,
   "id": "03c42482-d5a9-4496-8090-a36bae72af52",
   "metadata": {},
   "outputs": [],
   "source": [
    "# Create a function to edit an image with DALL-E API"
   ]
  },
  {
   "cell_type": "markdown",
   "id": "35f368e3-75ee-4592-bf94-c055e9f7b4ef",
   "metadata": {},
   "source": [
    "## Combining Text and Image Generation"
   ]
  },
  {
   "cell_type": "markdown",
   "id": "808c1dce-c0cb-40f5-baa8-9159ad6067b6",
   "metadata": {},
   "source": [
    "Now, let's create a simple application that combines text and image generation. We'll make a food recipe generator that provides both a recipe and an image of the dish. For the text generation, you'll use a different OpenAI API, not DALL-E API. Please refer to the previous course about OpenAI text generation."
   ]
  },
  {
   "cell_type": "code",
   "execution_count": 7,
   "id": "f17d0e01-e9f6-493e-b852-b8dd3a97c857",
   "metadata": {},
   "outputs": [],
   "source": [
    "# Create a function for text generation with OpenAI API\n",
    "# Create a function for image generation with the input from the output of the previous function\n",
    "# Combine those functions to generate a food recipe image based on a text query"
   ]
  },
  {
   "cell_type": "markdown",
   "id": "22bd80f8-d21d-458c-ad02-0af8c183edb1",
   "metadata": {},
   "source": [
    "## Conclusion"
   ]
  },
  {
   "cell_type": "markdown",
   "id": "1ba935b1-5362-4353-ae95-9ca5c60823ac",
   "metadata": {},
   "source": [
    "In this lesson, we've explored the fascinating world of AI-powered image generation and editing using DALL-E. We've learned how to:\n",
    "\n",
    "- Use the DALL-E API to generate images from text prompts\n",
    "- Edit existing images using DALL-E (with DALL-E 2)\n",
    "- Combine text and image generation in a single application\n",
    "\n",
    "These skills open up a world of creative possibilities, from generating custom illustrations for your projects to creating visual content for marketing or entertainment purposes. As you continue to experiment with DALL-E, you'll discover even more ways to leverage its capabilities in your work.\n",
    "\n",
    "Remember to always use AI-generated content responsibly and be aware of any ethical considerations or potential biases in the generated images.\n"
   ]
  },
  {
   "cell_type": "code",
   "execution_count": null,
   "id": "ae5d1e2c-4b8e-4f5a-9bd2-4acf84991a1b",
   "metadata": {},
   "outputs": [],
   "source": []
  }
 ],
 "metadata": {
  "kernelspec": {
   "display_name": "Python 3 (ipykernel)",
   "language": "python",
   "name": "python3"
  },
  "language_info": {
   "codemirror_mode": {
    "name": "ipython",
    "version": 3
   },
   "file_extension": ".py",
   "mimetype": "text/x-python",
   "name": "python",
   "nbconvert_exporter": "python",
   "pygments_lexer": "ipython3",
   "version": "3.12.3"
  }
 },
 "nbformat": 4,
 "nbformat_minor": 5
}
