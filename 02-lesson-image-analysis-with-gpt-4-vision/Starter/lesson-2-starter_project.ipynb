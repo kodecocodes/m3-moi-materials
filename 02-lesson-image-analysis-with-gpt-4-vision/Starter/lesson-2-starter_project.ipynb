{
 "cells": [
  {
   "cell_type": "markdown",
   "id": "ea6d8f24-71f5-42a4-a85e-48e210d1e723",
   "metadata": {},
   "source": [
    "# Lesson 2 Project: Image Analysis with GPT-4 Vision"
   ]
  },
  {
   "cell_type": "markdown",
   "id": "59acf5b1-8172-4398-ab9a-a5d393e47518",
   "metadata": {},
   "source": [
    "## Introduction"
   ]
  },
  {
   "cell_type": "markdown",
   "id": "6afb609c-d40f-4474-9d96-1c6e591191f3",
   "metadata": {},
   "source": [
    "Welcome to the second lesson on multimodal AI! Today, we're diving into the fascinating world of image analysis using GPT-4 Vision. Imagine an AI system that can look at an image and describe it in detail, and answer questions about its content. In this lesson, you'll explore the fundamentals of how GPT-4 Vision works, its applications, and its current limitations. You'll gain hands-on experience in using this technology, learning how to prepare images for analysis, make API requests, and interpret the API responses.\n",
    "By the end of this lesson, you will be able to:\n",
    "\n",
    "- Implement image analysis using GPT-4 with vision capabilities\n",
    "- Process and prepare images for API requests\n",
    "- Interpret and utilize the AI's analysis of image content\n",
    "\n",
    "These skills will not only give you a deeper understanding of multimodal AI but also equip you with practical knowledge that's highly relevant in your industry."
   ]
  },
  {
   "cell_type": "markdown",
   "id": "221a7f32-243d-4e24-9f65-66de03b7e06a",
   "metadata": {},
   "source": [
    "## Setting Up OpenAI Development Environment"
   ]
  },
  {
   "cell_type": "markdown",
   "id": "0befd442-f09a-4744-afca-5931aab6c58e",
   "metadata": {},
   "source": [
    "Refer to the Python Crash Course lesson to learn how to set up your OpenAI development environment."
   ]
  },
  {
   "cell_type": "code",
   "execution_count": 3,
   "id": "02e2ad69-59d6-447c-9d79-41a776a8794a",
   "metadata": {},
   "outputs": [],
   "source": [
    "# Load the OpenAI library\n",
    "# Set up relevant environment variables\n",
    "# Create the OpenAI connection object"
   ]
  },
  {
   "cell_type": "markdown",
   "id": "88464bcc-2c3e-4f7a-8a78-02b190d8ff81",
   "metadata": {},
   "source": [
    "## Overview of GPT-4 Vision"
   ]
  },
  {
   "cell_type": "markdown",
   "id": "cd2069e3-a3ad-4b30-933b-bc6e4bb7493b",
   "metadata": {},
   "source": [
    "GPT-4 Vision is an advanced AI model that combines the power of natural language processing with computer vision. It can analyze images and respond to questions about their content in natural language.\n",
    "Key capabilities:\n",
    "\n",
    "- Describing image content in detail\n",
    "- Answering questions about images\n",
    "- Understanding relationships between objects in images\n",
    "- Processing multiple images in a single request\n",
    "\n",
    "Potential applications:\n",
    "\n",
    "- Automated image captioning\n",
    "- Visual question answering\n",
    "- Assistive technologies for visually impaired individuals\n",
    "- Content moderation\n",
    "- Visual data analysis in various fields (e.g., medicine, e-commerce, biology)"
   ]
  },
  {
   "cell_type": "markdown",
   "id": "d243d77f-cbdf-47e7-ac39-966e244fea6c",
   "metadata": {},
   "source": [
    "## Making API Requests"
   ]
  },
  {
   "cell_type": "markdown",
   "id": "d9f89391-2828-437c-bfe7-c6127670ee37",
   "metadata": {},
   "source": [
    "There are two main ways to send images to GPT-4 Vision:\n",
    "\n",
    "- Using image URLs\n",
    "- Uploading base64 encoded images\n",
    "\n",
    "Let's explore both methods:"
   ]
  },
  {
   "cell_type": "markdown",
   "id": "d9d2ab44-5dda-4f70-8131-08c5af305eb1",
   "metadata": {},
   "source": [
    "### Using Image URLs"
   ]
  },
  {
   "cell_type": "code",
   "execution_count": 4,
   "id": "6193813b-1a99-4ebe-bd5f-eb14892e493b",
   "metadata": {},
   "outputs": [],
   "source": [
    "# Use an image URL when analyzing an image with GPT-4 Vision"
   ]
  },
  {
   "cell_type": "markdown",
   "id": "5c34c8eb-22f9-4466-bf4d-9ff51ab0990f",
   "metadata": {},
   "source": [
    "### Uploading Base64 Encoded Images"
   ]
  },
  {
   "cell_type": "code",
   "execution_count": 5,
   "id": "e947e656-e23d-4ed9-a5d8-426a915c795d",
   "metadata": {},
   "outputs": [],
   "source": [
    "# Convert an image to a base64 encoded image\n",
    "# Upload the base64 encoded image to the OpenAI API server"
   ]
  },
  {
   "cell_type": "markdown",
   "id": "a655a699-732f-46d5-9cb3-89a78ccbc86f",
   "metadata": {},
   "source": [
    "### Controlling Image Fidelity"
   ]
  },
  {
   "cell_type": "markdown",
   "id": "48d8aa3c-5a4b-4abf-9946-ab0dacb9d223",
   "metadata": {},
   "source": [
    "GPT-4 Vision allows you to control the fidelity of image processing using the detail parameter. There are three options:\n",
    "\n",
    "- \"low\": Faster processing, lower detail\n",
    "- \"high\": Slower processing, higher detail\n",
    "- \"auto\": The model decides based on the image size\n",
    "\n",
    "Here's how to use the detail parameter:"
   ]
  },
  {
   "cell_type": "code",
   "execution_count": 6,
   "id": "7c174d9d-345d-473c-8a8e-ed317dff232f",
   "metadata": {},
   "outputs": [],
   "source": [
    "# Use the detail parameter when analyzing an image with GPT-4 Vision"
   ]
  },
  {
   "cell_type": "markdown",
   "id": "cbc35b0a-d434-48bf-8d70-b2f9dec245c8",
   "metadata": {},
   "source": [
    "## Interpreting and Utilizing Results"
   ]
  },
  {
   "cell_type": "markdown",
   "id": "b8d0f342-adcc-4317-b756-e531658985ef",
   "metadata": {},
   "source": [
    "When interpreting the results from GPT-4 Vision, keep in mind its capabilities and limitations:\n",
    "\n",
    "- The model excels at general descriptions and identifying objects in images.\n",
    "- It can understand relationships between objects but may struggle with precise spatial reasoning.\n",
    "- The model may provide approximate counts for objects in images.\n",
    "- It may have difficulty with very small text or highly specialized images (e.g., medical scans).\n",
    "\n",
    "Here's an example of how to extract specific information from the model's response:"
   ]
  },
  {
   "cell_type": "code",
   "execution_count": 7,
   "id": "334ea1a2-43b8-46d4-8b5d-6aeae5b27905",
   "metadata": {},
   "outputs": [],
   "source": [
    "# Extracting specific information when analyzing an image from GPT-4 Vision\n",
    "# Use JSON format to make extracting information easier"
   ]
  },
  {
   "cell_type": "markdown",
   "id": "35c6af48-4599-4f43-9842-718de0ace283",
   "metadata": {},
   "source": [
    "## Conclusion"
   ]
  },
  {
   "cell_type": "markdown",
   "id": "00d54b5d-3c5b-41dc-a194-37ae8afbac29",
   "metadata": {},
   "source": [
    "In this lesson, we've explored the powerful capabilities of GPT-4 Vision for image analysis. We've learned how to:\n",
    "\n",
    "- Set up the OpenAI client for making API requests\n",
    "- Send images to GPT-4 Vision using both URLs and base64 encoding\n",
    "- Control the fidelity of image processing\n",
    "- Interpret and utilize the results from the model\n",
    "\n",
    "GPT-4 Vision represents a significant advancement in AI technology, bridging the gap between computer vision and natural language processing. As you continue to experiment with this technology, remember to consider its current limitations and always strive to use it responsibly and ethically."
   ]
  },
  {
   "cell_type": "code",
   "execution_count": null,
   "id": "d06d5577-88b5-429f-a72a-67bd0409edf1",
   "metadata": {},
   "outputs": [],
   "source": []
  }
 ],
 "metadata": {
  "kernelspec": {
   "display_name": "Python 3 (ipykernel)",
   "language": "python",
   "name": "python3"
  },
  "language_info": {
   "codemirror_mode": {
    "name": "ipython",
    "version": 3
   },
   "file_extension": ".py",
   "mimetype": "text/x-python",
   "name": "python",
   "nbconvert_exporter": "python",
   "pygments_lexer": "ipython3",
   "version": "3.12.3"
  }
 },
 "nbformat": 4,
 "nbformat_minor": 5
}
